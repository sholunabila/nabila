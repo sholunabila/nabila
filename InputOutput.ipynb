{
 "cells": [
  {
   "cell_type": "markdown",
   "id": "ac0d210c",
   "metadata": {},
   "source": [
    "<font color=\"pink\"><B><h1>Nilai Statis Dan Dinamis<h1><hr><B></font>"
   ]
  },
  {
   "cell_type": "markdown",
   "id": "4c84e738",
   "metadata": {},
   "source": [
    "<h5>Input</h5>"
   ]
  },
  {
   "cell_type": "code",
   "execution_count": 2,
   "id": "f36a40f4",
   "metadata": {},
   "outputs": [
    {
     "name": "stdout",
     "output_type": "stream",
     "text": [
      "Insert your first nameZahra\n",
      "Insert your middle nameAulia\n",
      "Insert your last nameHanifah\n",
      "Hello Zahra Aulia Hanifah ^_^\n"
     ]
    }
   ],
   "source": [
    "first_name = input('Insert your first name')\n",
    "middle_name = input('Insert your middle name')\n",
    "last_name = input('Insert your last name')\n",
    "\n",
    "print(\"Hello\", first_name, middle_name, last_name, \"^_^\")"
   ]
  },
  {
   "cell_type": "code",
   "execution_count": 5,
   "id": "c5315a25",
   "metadata": {},
   "outputs": [
    {
     "name": "stdout",
     "output_type": "stream",
     "text": [
      "Masukkan panjang : 6\n",
      "Masukkan lebar : 12\n",
      "Luas persegi panjang adalah 72 cm\n",
      "Keliling persegi panjang adalah 36 cm\n"
     ]
    }
   ],
   "source": [
    "#Luas dan Keliling Persegi Panjang\n",
    "panjang = input('Masukkan panjang : ')\n",
    "lebar = input('Masukkan lebar : ')\n",
    "luas = int (panjang) * int (lebar)\n",
    "keliling = 2 * (int (panjang) + int (lebar))\n",
    "\n",
    "print(\"Luas persegi panjang adalah\", luas, \"cm\")\n",
    "print(\"Keliling persegi panjang adalah\", keliling, \"cm\")"
   ]
  },
  {
   "cell_type": "markdown",
   "id": "27ac6995",
   "metadata": {},
   "source": [
    "<h5>Output</h5>"
   ]
  },
  {
   "cell_type": "code",
   "execution_count": 6,
   "id": "6cea2f47",
   "metadata": {},
   "outputs": [
    {
     "name": "stdout",
     "output_type": "stream",
     "text": [
      "17\n",
      "September\n",
      "2003\n",
      "17-September-2003\n",
      "17 September 2003\n"
     ]
    }
   ],
   "source": [
    "#separate\n",
    "print(\"17\",\"September\",\"2003\",sep='\\n') #Escape character, n nya new line (garis baru)\n",
    "print(\"17\",\"September\",\"2003\",sep='-')\n",
    "print(\"17\",\"September\",\"2003\",sep=' ')"
   ]
  },
  {
   "cell_type": "code",
   "execution_count": 8,
   "id": "3b5ebf63",
   "metadata": {},
   "outputs": [
    {
     "name": "stdout",
     "output_type": "stream",
     "text": [
      "1*2*3*4.1*****2*****3*****4."
     ]
    }
   ],
   "source": [
    "print(\"1\",\"2\",\"3\",\"4\", sep=\"*\", end=\".\")\n",
    "print(\"1\",\"2\",\"3\",\"4\", sep=\"*\" * 5, end=\".\")"
   ]
  },
  {
   "cell_type": "markdown",
   "id": "4d8d4f27",
   "metadata": {},
   "source": [
    "<h5>Memformat Output<h5>"
   ]
  },
  {
   "cell_type": "code",
   "execution_count": 9,
   "id": "366fdbbb",
   "metadata": {},
   "outputs": [
    {
     "name": "stdout",
     "output_type": "stream",
     "text": [
      "Luas Persegi dengan lebar 10 dan Panjang 20 = 200\n"
     ]
    }
   ],
   "source": [
    "l = 10\n",
    "p = 20\n",
    "\n",
    "print(\"Luas Persegi dengan lebar {} dan Panjang {} = {}\".format(l,p,l*p))"
   ]
  },
  {
   "cell_type": "markdown",
   "id": "d8be963b",
   "metadata": {},
   "source": [
    "<h5>Memformat dengan Indeks Kunci<h5>"
   ]
  },
  {
   "cell_type": "code",
   "execution_count": 10,
   "id": "742e9f82",
   "metadata": {},
   "outputs": [
    {
     "name": "stdout",
     "output_type": "stream",
     "text": [
      "Nama-nama bulan Desember,Januari\n"
     ]
    }
   ],
   "source": [
    "bulan1 = \"Januari\"\n",
    "bulan2 = \"Desember\"\n",
    "#menggunakan urutan indeks\n",
    "print(\"Nama-nama bulan {1},{0}\".format(bulan1,bulan2))"
   ]
  },
  {
   "cell_type": "markdown",
   "id": "3291c0b7",
   "metadata": {},
   "source": [
    "<h5>Pengenalan<h5>"
   ]
  },
  {
   "cell_type": "code",
   "execution_count": 13,
   "id": "bbe0c905",
   "metadata": {},
   "outputs": [
    {
     "name": "stdout",
     "output_type": "stream",
     "text": [
      "Nama saya Zahra Condronegoro\n"
     ]
    }
   ],
   "source": [
    "print(\"Nama saya {fname} {lname}\".format(fname='Zahra',lname='Condronegoro'))"
   ]
  },
  {
   "cell_type": "markdown",
   "id": "f9a64721",
   "metadata": {},
   "source": [
    "<h3>String #kumpulan dari bbrpa karakter<h3>"
   ]
  },
  {
   "cell_type": "markdown",
   "id": "6e2826cc",
   "metadata": {},
   "source": [
    "<h5>Indexing<h5>"
   ]
  },
  {
   "cell_type": "code",
   "execution_count": 14,
   "id": "cfbe1e4e",
   "metadata": {},
   "outputs": [
    {
     "name": "stdout",
     "output_type": "stream",
     "text": [
      "U\n",
      "a\n",
      "Universitas\n",
      "Nusa putra\n",
      "putra\n",
      "artup asuN satisrevinU\n"
     ]
    }
   ],
   "source": [
    "kampus = \"Universitas Nusa putra\"\n",
    "print(kampus[0])\n",
    "print(kampus[-1])\n",
    "\n",
    "#Menggunakan range\n",
    "print(kampus[0:11]) #ditambah 1, tapi 11 nya ga bakal ikut\n",
    "print(kampus[12:])  #ujungnya gausah diisi kalo mau ambil kata sampai akhir\n",
    "print(kampus[-5:])\n",
    "print(kampus[::-1]) #dibalik\n",
    "#Syaratnya yg sebelah kanan harus lebih besar nilainya"
   ]
  },
  {
   "cell_type": "markdown",
   "id": "1d84122b",
   "metadata": {},
   "source": [
    "<h5>Interpolasi menggunakan F-String<h5>"
   ]
  },
  {
   "cell_type": "code",
   "execution_count": 15,
   "id": "5a0f4e6b",
   "metadata": {},
   "outputs": [
    {
     "name": "stdout",
     "output_type": "stream",
     "text": [
      "Luas Persegi = 200\n",
      "Keliling Persegi = 60\n"
     ]
    }
   ],
   "source": [
    "p =10\n",
    "l =20\n",
    "\n",
    "print(f'Luas Persegi = {l*p}')\n",
    "print(f'Keliling Persegi = {2 * (p+l)}')"
   ]
  },
  {
   "cell_type": "markdown",
   "id": "58e92e9f",
   "metadata": {},
   "source": [
    "<h5>Fungsi<h5>"
   ]
  },
  {
   "cell_type": "code",
   "execution_count": 27,
   "id": "ab371c15",
   "metadata": {},
   "outputs": [
    {
     "name": "stdout",
     "output_type": "stream",
     "text": [
      "['ARIN', 'BRICIA', 'CHINTYA']\n",
      "ARIN@BRICIA@CHINTYA\n"
     ]
    }
   ],
   "source": [
    "#mengubah string biasa ,menjadi list, kalo pake join jadi kebalikannya\n",
    "nama_siswa = \"Arin,Bricia,Chintya\"\n",
    "nama_siswa = nama_siswa.upper()\n",
    "\n",
    "print(nama_siswa.split(','))\n",
    "print('@'.join(nama_siswa.split(',')))"
   ]
  },
  {
   "cell_type": "code",
   "execution_count": 26,
   "id": "12098143",
   "metadata": {},
   "outputs": [
    {
     "name": "stdout",
     "output_type": "stream",
     "text": [
      "Isikan Nama Anda : Zahra Aulia\n",
      "Isikan Tanggal Lahir : 17/09/2003\n",
      "Nama anda : Zahra Aulia\n",
      "Tgl Lahir : 17\n",
      "Bulan Lahir : 09\n",
      "Tahun Lahir : 2003\n",
      "Inisial : ZA\n"
     ]
    }
   ],
   "source": [
    "nama = input(\"Isikan Nama Anda : \")\n",
    "tgl_lahir = input(\"Isikan Tanggal Lahir : \")\n",
    "\n",
    "tgls = tgl_lahir.split('/')\n",
    "namas = nama.split()\n",
    "inisial1 = namas[0]\n",
    "inisial2 = namas[1]\n",
    "\n",
    "print(f\"Nama anda : {nama}\")\n",
    "print(f\"Tgl Lahir : {tgls[0]}\")\n",
    "print(f\"Bulan Lahir : {tgls[1]}\")\n",
    "print(f\"Tahun Lahir : {tgls[2]}\")\n",
    "print(f\"Inisial : {inisial1[0]}{inisial2[0]}\")"
   ]
  }
 ],
 "metadata": {
  "kernelspec": {
   "display_name": "Python 3 (ipykernel)",
   "language": "python",
   "name": "python3"
  },
  "language_info": {
   "codemirror_mode": {
    "name": "ipython",
    "version": 3
   },
   "file_extension": ".py",
   "mimetype": "text/x-python",
   "name": "python",
   "nbconvert_exporter": "python",
   "pygments_lexer": "ipython3",
   "version": "3.9.12"
  }
 },
 "nbformat": 4,
 "nbformat_minor": 5
}
